{
 "cells": [
  {
   "cell_type": "code",
   "execution_count": 6,
   "metadata": {},
   "outputs": [
    {
     "name": "stdout",
     "output_type": "stream",
     "text": [
      "Collecting vowpalwabbit\n",
      "  Using cached vowpalwabbit-9.10.0.tar.gz (33.3 MB)\n",
      "  Installing build dependencies ... \u001b[?25ldone\n",
      "\u001b[?25h  Getting requirements to build wheel ... \u001b[?25ldone\n",
      "\u001b[?25h  Preparing metadata (pyproject.toml) ... \u001b[?25ldone\n",
      "\u001b[?25hBuilding wheels for collected packages: vowpalwabbit\n",
      "  Building wheel for vowpalwabbit (pyproject.toml) ... \u001b[?25lerror\n",
      "  \u001b[1;31merror\u001b[0m: \u001b[1msubprocess-exited-with-error\u001b[0m\n",
      "  \n",
      "  \u001b[31m×\u001b[0m \u001b[32mBuilding wheel for vowpalwabbit \u001b[0m\u001b[1;32m(\u001b[0m\u001b[32mpyproject.toml\u001b[0m\u001b[1;32m)\u001b[0m did not run successfully.\n",
      "  \u001b[31m│\u001b[0m exit code: \u001b[1;36m1\u001b[0m\n",
      "  \u001b[31m╰─>\u001b[0m \u001b[31m[35 lines of output]\u001b[0m\n",
      "  \u001b[31m   \u001b[0m running bdist_wheel\n",
      "  \u001b[31m   \u001b[0m running build\n",
      "  \u001b[31m   \u001b[0m running build_py\n",
      "  \u001b[31m   \u001b[0m creating build/lib.macosx-10.13-universal2-cpython-313/vowpalwabbit\n",
      "  \u001b[31m   \u001b[0m copying python/vowpalwabbit/pyvw.py -> build/lib.macosx-10.13-universal2-cpython-313/vowpalwabbit\n",
      "  \u001b[31m   \u001b[0m copying python/vowpalwabbit/version.py -> build/lib.macosx-10.13-universal2-cpython-313/vowpalwabbit\n",
      "  \u001b[31m   \u001b[0m copying python/vowpalwabbit/__init__.py -> build/lib.macosx-10.13-universal2-cpython-313/vowpalwabbit\n",
      "  \u001b[31m   \u001b[0m copying python/vowpalwabbit/sklearn_vw.py -> build/lib.macosx-10.13-universal2-cpython-313/vowpalwabbit\n",
      "  \u001b[31m   \u001b[0m copying python/vowpalwabbit/sklearn.py -> build/lib.macosx-10.13-universal2-cpython-313/vowpalwabbit\n",
      "  \u001b[31m   \u001b[0m copying python/vowpalwabbit/__main__.py -> build/lib.macosx-10.13-universal2-cpython-313/vowpalwabbit\n",
      "  \u001b[31m   \u001b[0m copying python/vowpalwabbit/dftovw.py -> build/lib.macosx-10.13-universal2-cpython-313/vowpalwabbit\n",
      "  \u001b[31m   \u001b[0m running egg_info\n",
      "  \u001b[31m   \u001b[0m writing python/vowpalwabbit.egg-info/PKG-INFO\n",
      "  \u001b[31m   \u001b[0m writing dependency_links to python/vowpalwabbit.egg-info/dependency_links.txt\n",
      "  \u001b[31m   \u001b[0m writing top-level names to python/vowpalwabbit.egg-info/top_level.txt\n",
      "  \u001b[31m   \u001b[0m reading manifest file 'python/vowpalwabbit.egg-info/SOURCES.txt'\n",
      "  \u001b[31m   \u001b[0m reading manifest template 'MANIFEST.in'\n",
      "  \u001b[31m   \u001b[0m warning: no files found matching 'CMakeSettings.json'\n",
      "  \u001b[31m   \u001b[0m warning: no files found matching 'python/*.bat'\n",
      "  \u001b[31m   \u001b[0m warning: no files found matching '*' under directory 'explore'\n",
      "  \u001b[31m   \u001b[0m warning: no files found matching 'python/*.dll' under directory 'python/bin'\n",
      "  \u001b[31m   \u001b[0m warning: no previously-included files matching '*.o' found anywhere in distribution\n",
      "  \u001b[31m   \u001b[0m warning: no previously-included files matching '*.exe' found anywhere in distribution\n",
      "  \u001b[31m   \u001b[0m warning: no previously-included files matching '*.pyc' found anywhere in distribution\n",
      "  \u001b[31m   \u001b[0m warning: no previously-included files matching '*' found under directory 'vowpalwabbit/.nuget'\n",
      "  \u001b[31m   \u001b[0m warning: no previously-included files matching '*' found under directory 'ext_libs/boost_math/doc'\n",
      "  \u001b[31m   \u001b[0m warning: no previously-included files matching '*' found under directory 'ext_libs/boost_math/test'\n",
      "  \u001b[31m   \u001b[0m adding license file 'LICENSE'\n",
      "  \u001b[31m   \u001b[0m adding license file 'AUTHORS'\n",
      "  \u001b[31m   \u001b[0m writing manifest file 'python/vowpalwabbit.egg-info/SOURCES.txt'\n",
      "  \u001b[31m   \u001b[0m copying python/vowpalwabbit/conda_install.sh -> build/lib.macosx-10.13-universal2-cpython-313/vowpalwabbit\n",
      "  \u001b[31m   \u001b[0m running build_ext\n",
      "  \u001b[31m   \u001b[0m creating build/temp.macosx-10.13-universal2-cpython-313\n",
      "  \u001b[31m   \u001b[0m cmake -DCMAKE_BUILD_TYPE=Release -DPY_VERSION=3.13 -DBUILD_PYTHON=On -DBUILD_TESTING=Off -DWARNINGS=Off -DVW_FEAT_CB_GRAPH_FEEDBACK=On -DSTD_INV_SQRT=On -DVW_PYTHON_SHARED_LIB_SUFFIX=.cpython-313-darwin.so -DBoost_NO_BOOST_CMAKE=ON -DCMAKE_PREFIX_PATH=/opt/anaconda3 -DPython_INCLUDE_DIR=/Library/Frameworks/Python.framework/Versions/3.13/include/python3.13 -DCMAKE_LIBRARY_OUTPUT_DIRECTORY=/private/var/folders/zb/qx78v_j17kd96d0n639_qcdc0000gn/T/pip-install-7tn_uk0_/vowpalwabbit_f4199e6658a74525a23cb7874d393087/build/lib.macosx-10.13-universal2-cpython-313 /private/var/folders/zb/qx78v_j17kd96d0n639_qcdc0000gn/T/pip-install-7tn_uk0_/vowpalwabbit_f4199e6658a74525a23cb7874d393087\n",
      "  \u001b[31m   \u001b[0m error: command 'cmake' failed: No such file or directory\n",
      "  \u001b[31m   \u001b[0m \u001b[31m[end of output]\u001b[0m\n",
      "  \n",
      "  \u001b[1;35mnote\u001b[0m: This error originates from a subprocess, and is likely not a problem with pip.\n",
      "\u001b[?25h\u001b[31m  ERROR: Failed building wheel for vowpalwabbit\u001b[0m\u001b[31m\n",
      "\u001b[0mFailed to build vowpalwabbit\n",
      "\n",
      "\u001b[1m[\u001b[0m\u001b[34;49mnotice\u001b[0m\u001b[1;39;49m]\u001b[0m\u001b[39;49m A new release of pip is available: \u001b[0m\u001b[31;49m24.3.1\u001b[0m\u001b[39;49m -> \u001b[0m\u001b[32;49m25.0.1\u001b[0m\n",
      "\u001b[1m[\u001b[0m\u001b[34;49mnotice\u001b[0m\u001b[1;39;49m]\u001b[0m\u001b[39;49m To update, run: \u001b[0m\u001b[32;49mpip3 install --upgrade pip\u001b[0m\n",
      "\u001b[31mERROR: ERROR: Failed to build installable wheels for some pyproject.toml based projects (vowpalwabbit)\u001b[0m\u001b[31m\n",
      "\u001b[0mNote: you may need to restart the kernel to use updated packages.\n"
     ]
    }
   ],
   "source": [
    "pip install vowpalwabbit"
   ]
  },
  {
   "cell_type": "code",
   "execution_count": 3,
   "metadata": {},
   "outputs": [
    {
     "ename": "ModuleNotFoundError",
     "evalue": "No module named 'vowpalwabbit'",
     "output_type": "error",
     "traceback": [
      "\u001b[31m---------------------------------------------------------------------------\u001b[39m",
      "\u001b[31mModuleNotFoundError\u001b[39m                       Traceback (most recent call last)",
      "\u001b[36mCell\u001b[39m\u001b[36m \u001b[39m\u001b[32mIn[3]\u001b[39m\u001b[32m, line 1\u001b[39m\n\u001b[32m----> \u001b[39m\u001b[32m1\u001b[39m \u001b[38;5;28;01mimport\u001b[39;00m\u001b[38;5;250m \u001b[39m\u001b[34;01mvowpalwabbit\u001b[39;00m\n\u001b[32m      2\u001b[39m \u001b[38;5;28;01mimport\u001b[39;00m\u001b[38;5;250m \u001b[39m\u001b[34;01mrandom\u001b[39;00m\n\u001b[32m      3\u001b[39m \u001b[38;5;28;01mimport\u001b[39;00m\u001b[38;5;250m \u001b[39m\u001b[34;01mmatplotlib\u001b[39;00m\u001b[34;01m.\u001b[39;00m\u001b[34;01mpyplot\u001b[39;00m\u001b[38;5;250m \u001b[39m\u001b[38;5;28;01mas\u001b[39;00m\u001b[38;5;250m \u001b[39m\u001b[34;01mplt\u001b[39;00m\n",
      "\u001b[31mModuleNotFoundError\u001b[39m: No module named 'vowpalwabbit'"
     ]
    }
   ],
   "source": [
    "import vowpalwabbit\n",
    "import random\n",
    "import matplotlib.pyplot as plt\n",
    "import pandas as pd\n",
    "import itertools\n"
   ]
  },
  {
   "cell_type": "code",
   "execution_count": null,
   "metadata": {},
   "outputs": [],
   "source": []
  }
 ],
 "metadata": {
  "kernelspec": {
   "display_name": "Python 3",
   "language": "python",
   "name": "python3"
  },
  "language_info": {
   "codemirror_mode": {
    "name": "ipython",
    "version": 3
   },
   "file_extension": ".py",
   "mimetype": "text/x-python",
   "name": "python",
   "nbconvert_exporter": "python",
   "pygments_lexer": "ipython3",
   "version": "3.13.1"
  }
 },
 "nbformat": 4,
 "nbformat_minor": 2
}
