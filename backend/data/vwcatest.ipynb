{
 "cells": [
  {
   "cell_type": "code",
   "execution_count": 1,
   "id": "61ba8ee6",
   "metadata": {},
   "outputs": [],
   "source": [
    "import random\n",
    "import os\n",
    "from sklearn.model_selection import train_test_split\n",
    "import subprocess\n"
   ]
  },
  {
   "cell_type": "code",
   "execution_count": null,
   "id": "749f09d0",
   "metadata": {},
   "outputs": [],
   "source": [
    "with open('dataset.vw', 'r') as f:\n",
    "    lines = f.readlines()\n"
   ]
  },
  {
   "cell_type": "code",
   "execution_count": null,
   "id": "5eb64698",
   "metadata": {},
   "outputs": [],
   "source": [
    "lines = [line.strip() for line in lines if line.strip()]\n"
   ]
  },
  {
   "cell_type": "code",
   "execution_count": null,
   "id": "bae7af21",
   "metadata": {},
   "outputs": [],
   "source": [
    "random.shuffle(lines)\n",
    "train_lines, test_lines = train_test_split(lines, test_size=0.2, random_state=42)"
   ]
  },
  {
   "cell_type": "code",
   "execution_count": null,
   "id": "18449cd5",
   "metadata": {},
   "outputs": [],
   "source": [
    "with open('train.vw', 'w') as f:\n",
    "    f.write('\\n'.join(train_lines))"
   ]
  },
  {
   "cell_type": "code",
   "execution_count": null,
   "id": "552df157",
   "metadata": {},
   "outputs": [],
   "source": [
    "def remove_ca(line):\n",
    "    if line.startswith(\"ca \"):\n",
    "        return \"|\".join(line.split(\"|\")[1:]).strip()\n",
    "    return line\n",
    "\n",
    "test_contexts = [remove_ca(line) for line in test_lines]\n",
    "with open('test_contexts.vw', 'w') as f:\n",
    "    f.write('\\n'.join(test_contexts))"
   ]
  },
  {
   "cell_type": "code",
   "execution_count": null,
   "id": "3fc6496d",
   "metadata": {},
   "outputs": [],
   "source": [
    "with open('test.vw', 'w') as f:\n",
    "    f.write('\\n'.join(test_lines))"
   ]
  },
  {
   "cell_type": "code",
   "execution_count": null,
   "id": "6f53f24d",
   "metadata": {},
   "outputs": [],
   "source": [
    "train_cmd = [\n",
    "    \"vw\",\n",
    "    \"--cb_explore_pdf\", \"1\",\n",
    "    \"--min_value\", \"0\",\n",
    "    \"--max_value\", \"12\",\n",
    "    \"--bandwidth\", \"1.0\",\n",
    "    \"-d\", \"train.vw\",\n",
    "    \"-f\", \"cb_model.vw\"\n",
    "]\n",
    "subprocess.run(train_cmd)"
   ]
  },
  {
   "cell_type": "code",
   "execution_count": null,
   "id": "4bc27990",
   "metadata": {},
   "outputs": [],
   "source": [
    "predict_cmd = [\n",
    "    \"vw\",\n",
    "    \"-i\", \"cb_model.vw\",\n",
    "    \"-t\",\n",
    "    \"-d\", \"test_contexts.vw\",\n",
    "    \"-p\", \"predictions.txt\"\n",
    "]\n",
    "subprocess.run(predict_cmd)"
   ]
  },
  {
   "cell_type": "code",
   "execution_count": null,
   "id": "65f6a2fa",
   "metadata": {},
   "outputs": [],
   "source": [
    "with open(\"predictions.txt\", \"r\") as f:\n",
    "    predictions = f.readlines()\n",
    "\n",
    "print(\"\\n--- Sample Predictions ---\")\n",
    "for i in range(min(10, len(predictions))):\n",
    "    print(f\"Line {i+1}: Recommend starting at {predictions[i].strip()} hours from now\")"
   ]
  }
 ],
 "metadata": {
  "kernelspec": {
   "display_name": "Python 3",
   "language": "python",
   "name": "python3"
  },
  "language_info": {
   "codemirror_mode": {
    "name": "ipython",
    "version": 3
   },
   "file_extension": ".py",
   "mimetype": "text/x-python",
   "name": "python",
   "nbconvert_exporter": "python",
   "pygments_lexer": "ipython3",
   "version": "3.13.2"
  }
 },
 "nbformat": 4,
 "nbformat_minor": 5
}
