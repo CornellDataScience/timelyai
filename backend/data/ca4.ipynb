{
 "cells": [
  {
   "cell_type": "code",
   "execution_count": 3,
   "id": "beb17347",
   "metadata": {},
   "outputs": [],
   "source": [
    "import csv\n",
    "import random\n",
    "import os\n",
    "import matplotlib.pyplot as plt\n",
    "from vowpalwabbit import pyvw\n",
    "from sklearn.model_selection import train_test_split\n",
    "\n",
    "CA_MIN, CA_MAX = 9.0, 20.0  # action range\n",
    "PDF_UNIFORM = 1.0 / (CA_MAX - CA_MIN)\n",
    "\n",
    "\n",
    "def convert_to_vw_format(row):\n",
    "    label = f\"ca {row['action_time']}:{row['cost']}:{PDF_UNIFORM}\"\n",
    "    features = f\"event_type={row['event_type']} hours_until_due:{row['hours_until_due']} daily_free_time:{row['daily_free_time']}\"\n",
    "    return f\"{label} | {features}\"\n",
    "\n"
   ]
  },
  {
   "cell_type": "code",
   "execution_count": 4,
   "id": "116a8785",
   "metadata": {},
   "outputs": [],
   "source": [
    "def load_and_prepare(csv_path):\n",
    "    with open(csv_path, newline='') as f:\n",
    "        reader = list(csv.DictReader(f))\n",
    "        train_rows, test_rows = train_test_split(reader, test_size=0.2, random_state=42)\n",
    "        return train_rows, test_rows"
   ]
  },
  {
   "cell_type": "code",
   "execution_count": 5,
   "id": "fef7f490",
   "metadata": {},
   "outputs": [],
   "source": [
    "def write_vw_file(rows, path):\n",
    "    with open(path, 'w') as f:\n",
    "        for row in rows:\n",
    "            f.write(convert_to_vw_format(row) + '\\n')"
   ]
  },
  {
   "cell_type": "code",
   "execution_count": 6,
   "id": "d367417d",
   "metadata": {},
   "outputs": [],
   "source": [
    "def train_model(train_file, model_path):\n",
    "    model = pyvw.vw(f\"--ca {CA_MIN} {CA_MAX} -l 0.5 -f {model_path} --passes 10 --cache_file cache --kill_cache --quiet\")\n",
    "    with open(train_file, 'r') as f:\n",
    "        for line in f:\n",
    "            model.learn(line.strip())\n",
    "    model.finish()\n"
   ]
  },
  {
   "cell_type": "code",
   "execution_count": 7,
   "id": "7ac8fc06",
   "metadata": {},
   "outputs": [],
   "source": [
    "def evaluate(model_path, test_rows):\n",
    "    model = pyvw.vw(f\"-i {model_path} -t --ca {CA_MIN} {CA_MAX} --quiet\")\n",
    "    actual, predicted = [], []\n",
    "    for row in test_rows:\n",
    "        features = f\"| event_type={row['event_type']} hours_until_due:{row['hours_until_due']} daily_free_time:{row['daily_free_time']}\"\n",
    "        pred = model.predict(features)\n",
    "        actual.append(float(row['action_time']))\n",
    "        predicted.append(pred)\n",
    "    return actual, predicted"
   ]
  },
  {
   "cell_type": "code",
   "execution_count": 8,
   "id": "bfd53bac",
   "metadata": {},
   "outputs": [],
   "source": [
    "def plot_results(actual, predicted):\n",
    "    errors = [abs(a - p) for a, p in zip(actual, predicted)]\n",
    "    plt.plot(errors, label=\"Absolute Error\")\n",
    "    plt.xlabel(\"Test Example\")\n",
    "    plt.ylabel(\"Prediction Error (hours)\")\n",
    "    plt.title(\"Prediction Error on Test Set\")\n",
    "    plt.legend()\n",
    "    plt.show()"
   ]
  },
  {
   "cell_type": "code",
   "execution_count": 9,
   "id": "62938e5e",
   "metadata": {},
   "outputs": [
    {
     "name": "stderr",
     "output_type": "stream",
     "text": [
      "/var/folders/zb/qx78v_j17kd96d0n639_qcdc0000gn/T/ipykernel_63520/1505961710.py:2: DeprecationWarning: vw has been renamed to Workspace, the alias will be removed in the future\n",
      "  model = pyvw.vw(f\"--ca {CA_MIN} {CA_MAX} -l 0.5 -f {model_path} --passes 10 --cache_file cache --kill_cache --quiet\")\n"
     ]
    },
    {
     "ename": "RuntimeError",
     "evalue": "unrecognised option '--ca'",
     "output_type": "error",
     "traceback": [
      "\u001b[31m---------------------------------------------------------------------------\u001b[39m",
      "\u001b[31mRuntimeError\u001b[39m                              Traceback (most recent call last)",
      "\u001b[36mCell\u001b[39m\u001b[36m \u001b[39m\u001b[32mIn[9]\u001b[39m\u001b[32m, line 8\u001b[39m\n\u001b[32m      6\u001b[39m write_vw_file(train_rows, train_file)\n\u001b[32m      7\u001b[39m write_vw_file(test_rows, test_file)\n\u001b[32m----> \u001b[39m\u001b[32m8\u001b[39m \u001b[43mtrain_model\u001b[49m\u001b[43m(\u001b[49m\u001b[43mtrain_file\u001b[49m\u001b[43m,\u001b[49m\u001b[43m \u001b[49m\u001b[43mmodel_path\u001b[49m\u001b[43m)\u001b[49m\n\u001b[32m     10\u001b[39m actual, predicted = evaluate(model_path, test_rows)\n\u001b[32m     11\u001b[39m plot_results(actual, predicted)\n",
      "\u001b[36mCell\u001b[39m\u001b[36m \u001b[39m\u001b[32mIn[6]\u001b[39m\u001b[32m, line 2\u001b[39m, in \u001b[36mtrain_model\u001b[39m\u001b[34m(train_file, model_path)\u001b[39m\n\u001b[32m      1\u001b[39m \u001b[38;5;28;01mdef\u001b[39;00m\u001b[38;5;250m \u001b[39m\u001b[34mtrain_model\u001b[39m(train_file, model_path):\n\u001b[32m----> \u001b[39m\u001b[32m2\u001b[39m     model = \u001b[43mpyvw\u001b[49m\u001b[43m.\u001b[49m\u001b[43mvw\u001b[49m\u001b[43m(\u001b[49m\u001b[33;43mf\u001b[39;49m\u001b[33;43m\"\u001b[39;49m\u001b[33;43m--ca \u001b[39;49m\u001b[38;5;132;43;01m{\u001b[39;49;00m\u001b[43mCA_MIN\u001b[49m\u001b[38;5;132;43;01m}\u001b[39;49;00m\u001b[33;43m \u001b[39;49m\u001b[38;5;132;43;01m{\u001b[39;49;00m\u001b[43mCA_MAX\u001b[49m\u001b[38;5;132;43;01m}\u001b[39;49;00m\u001b[33;43m -l 0.5 -f \u001b[39;49m\u001b[38;5;132;43;01m{\u001b[39;49;00m\u001b[43mmodel_path\u001b[49m\u001b[38;5;132;43;01m}\u001b[39;49;00m\u001b[33;43m --passes 10 --cache_file cache --kill_cache --quiet\u001b[39;49m\u001b[33;43m\"\u001b[39;49m\u001b[43m)\u001b[49m\n\u001b[32m      3\u001b[39m     \u001b[38;5;28;01mwith\u001b[39;00m \u001b[38;5;28mopen\u001b[39m(train_file, \u001b[33m'\u001b[39m\u001b[33mr\u001b[39m\u001b[33m'\u001b[39m) \u001b[38;5;28;01mas\u001b[39;00m f:\n\u001b[32m      4\u001b[39m         \u001b[38;5;28;01mfor\u001b[39;00m line \u001b[38;5;129;01min\u001b[39;00m f:\n",
      "\u001b[36mFile \u001b[39m\u001b[32m/Library/Frameworks/Python.framework/Versions/3.13/lib/python3.13/site-packages/vowpalwabbit/pyvw.py:32\u001b[39m, in \u001b[36m_DeprecatedClassMeta.__new__.<locals>.new\u001b[39m\u001b[34m(cls, *args, **kwargs)\u001b[39m\n\u001b[32m     24\u001b[39m \u001b[38;5;28;01mif\u001b[39;00m alias \u001b[38;5;129;01mis\u001b[39;00m \u001b[38;5;129;01mnot\u001b[39;00m \u001b[38;5;28;01mNone\u001b[39;00m:\n\u001b[32m     25\u001b[39m     warnings.warn(\n\u001b[32m     26\u001b[39m         \u001b[33m\"\u001b[39m\u001b[38;5;132;01m{}\u001b[39;00m\u001b[33m has been renamed to \u001b[39m\u001b[38;5;132;01m{}\u001b[39;00m\u001b[33m, the alias will be \u001b[39m\u001b[33m\"\u001b[39m\n\u001b[32m     27\u001b[39m         \u001b[33m\"\u001b[39m\u001b[33mremoved in the future\u001b[39m\u001b[33m\"\u001b[39m.format(\u001b[38;5;28mcls\u001b[39m.\u001b[34m__name__\u001b[39m, alias.\u001b[34m__name__\u001b[39m),\n\u001b[32m     28\u001b[39m         \u001b[38;5;167;01mDeprecationWarning\u001b[39;00m,\n\u001b[32m     29\u001b[39m         stacklevel=\u001b[32m2\u001b[39m,\n\u001b[32m     30\u001b[39m     )\n\u001b[32m---> \u001b[39m\u001b[32m32\u001b[39m \u001b[38;5;28;01mreturn\u001b[39;00m \u001b[43malias\u001b[49m\u001b[43m(\u001b[49m\u001b[43m*\u001b[49m\u001b[43margs\u001b[49m\u001b[43m,\u001b[49m\u001b[43m \u001b[49m\u001b[43m*\u001b[49m\u001b[43m*\u001b[49m\u001b[43mkwargs\u001b[49m\u001b[43m)\u001b[49m\n",
      "\u001b[36mFile \u001b[39m\u001b[32m/Library/Frameworks/Python.framework/Versions/3.13/lib/python3.13/site-packages/vowpalwabbit/pyvw.py:469\u001b[39m, in \u001b[36mWorkspace.__init__\u001b[39m\u001b[34m(self, arg_str, enable_logging, arg_list, **kw)\u001b[39m\n\u001b[32m    467\u001b[39m     \u001b[38;5;28msuper\u001b[39m().\u001b[34m__init__\u001b[39m(merged_arg_list, \u001b[38;5;28mself\u001b[39m._log_wrapper)\n\u001b[32m    468\u001b[39m \u001b[38;5;28;01melse\u001b[39;00m:\n\u001b[32m--> \u001b[39m\u001b[32m469\u001b[39m     \u001b[38;5;28;43msuper\u001b[39;49m\u001b[43m(\u001b[49m\u001b[43m)\u001b[49m\u001b[43m.\u001b[49m\u001b[34;43m__init__\u001b[39;49m\u001b[43m(\u001b[49m\u001b[43mmerged_arg_list\u001b[49m\u001b[43m)\u001b[49m\n\u001b[32m    470\u001b[39m \u001b[38;5;28mself\u001b[39m.init = \u001b[38;5;28;01mTrue\u001b[39;00m\n\u001b[32m    472\u001b[39m \u001b[38;5;66;03m# check to see if native parser needs to run\u001b[39;00m\n",
      "\u001b[31mRuntimeError\u001b[39m: unrecognised option '--ca'"
     ]
    }
   ],
   "source": [
    "csv_path = \"schedule.csv\"\n",
    "train_file, test_file = \"train.vw\", \"test.vw\"\n",
    "model_path = \"model.vw\"\n",
    "\n",
    "train_rows, test_rows = load_and_prepare(csv_path)\n",
    "write_vw_file(train_rows, train_file)\n",
    "write_vw_file(test_rows, test_file)\n",
    "train_model(train_file, model_path)\n",
    "\n",
    "actual, predicted = evaluate(model_path, test_rows)\n",
    "plot_results(actual, predicted)"
   ]
  }
 ],
 "metadata": {
  "kernelspec": {
   "display_name": "Python 3",
   "language": "python",
   "name": "python3"
  },
  "language_info": {
   "codemirror_mode": {
    "name": "ipython",
    "version": 3
   },
   "file_extension": ".py",
   "mimetype": "text/x-python",
   "name": "python",
   "nbconvert_exporter": "python",
   "pygments_lexer": "ipython3",
   "version": "3.13.2"
  }
 },
 "nbformat": 4,
 "nbformat_minor": 5
}
