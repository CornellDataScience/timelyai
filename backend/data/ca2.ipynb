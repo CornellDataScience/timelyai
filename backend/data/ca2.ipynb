{
 "cells": [
  {
   "cell_type": "code",
   "execution_count": 15,
   "id": "aee67020",
   "metadata": {},
   "outputs": [],
   "source": [
    "import json\n",
    "import matplotlib.pyplot as plt\n",
    "from vowpalwabbit import pyvw\n",
    "from vowpalwabbit import LabelType"
   ]
  },
  {
   "cell_type": "code",
   "execution_count": 16,
   "id": "328f42a6",
   "metadata": {},
   "outputs": [],
   "source": [
    "def parse_vw_format(line):\n",
    "    cost_part, rest = line.split(\":\", 1)\n",
    "    minmax_part, action_and_features = rest.split(\"]:\", 1)\n",
    "    min_val, max_val = map(float, minmax_part.strip(\"[\").split(\",\"))\n",
    "    action, features_str = action_and_features.strip().split(\" |\", 1)\n",
    "    \n",
    "    context = {}\n",
    "    for feat in features_str.split():\n",
    "        if \":\" in feat:\n",
    "            k, v = feat.split(\":\")\n",
    "            context[k] = float(v)\n",
    "        else:\n",
    "            context[feat] = 1\n",
    "    \n",
    "    label = {\n",
    "        \"action\": float(action),\n",
    "        \"cost\": float(cost_part),\n",
    "        \"pdf_value\": 1.0 / (max_val - min_val) if max_val > min_val else 1.0\n",
    "    }\n",
    "\n",
    "    return {\"context\": context, \"label\": label}\n"
   ]
  },
  {
   "cell_type": "code",
   "execution_count": 17,
   "id": "4c40dfa4",
   "metadata": {},
   "outputs": [],
   "source": [
    "def load_examples(path):\n",
    "    examples = []\n",
    "    with open(path, \"r\") as f:\n",
    "        for line in f:\n",
    "            if line.strip():\n",
    "                try:\n",
    "                    ex = parse_vw_format(line.strip())\n",
    "                    examples.append(ex)\n",
    "                except Exception as e:\n",
    "                    print(f\"Skipping invalid line: {line}\\nError: {e}\")\n",
    "    return examples"
   ]
  },
  {
   "cell_type": "code",
   "execution_count": 26,
   "id": "b959eb4c",
   "metadata": {},
   "outputs": [],
   "source": [
    "def run_scheduler_simulation_from_file(vw, examples):\n",
    "    reward_rate = []\n",
    "    total_cost = 0.0\n",
    "    hits = 0\n",
    "\n",
    "    for i, ex_data in enumerate(examples, start=1):\n",
    "        context = ex_data[\"context\"]\n",
    "        label = ex_data[\"label\"]\n",
    "\n",
    "        # Predict\n",
    "        pred_ex = vw.example(json.dumps({\"c\": context}), labelType=LabelType.CONTINUOUS)\n",
    "        pred_ex.finish()\n",
    "        predicted_action = vw.predict(pred_ex)\n",
    "\n",
    "\n",
    "        # Calculate reward and track\n",
    "        cost = label[\"cost\"]\n",
    "        total_cost += cost\n",
    "        if cost <= -0.75:\n",
    "            hits += 1\n",
    "\n",
    "        reward_rate.append(-1 * total_cost / i)\n",
    "\n",
    "        # Learn\n",
    "        learn_ex = vw.parse(json.dumps({\n",
    "            \"_label_ca\": {\n",
    "                \"action\": predicted_action,\n",
    "                \"cost\": cost,\n",
    "                \"pdf_value\": label[\"pdf_value\"]\n",
    "            },\n",
    "            \"c\": context\n",
    "        }), LabelType=\"continuous\")\n",
    "\n",
    "        vw.learn(learn_ex)\n",
    "        vw.finish_example(learn_ex)\n",
    "\n",
    "\n",
    "    return reward_rate, hits"
   ]
  },
  {
   "cell_type": "code",
   "execution_count": 19,
   "id": "a645adf3",
   "metadata": {},
   "outputs": [],
   "source": [
    "def plot_reward_rate(num_iterations, reward_rate, title):\n",
    "    plt.figure(figsize=(10, 4))\n",
    "    plt.plot(range(1, num_iterations + 1), reward_rate)\n",
    "    plt.xlabel(\"Iteration\")\n",
    "    plt.ylabel(\"Avg Reward (–Cost)\")\n",
    "    plt.title(title)\n",
    "    plt.ylim([0, 1])\n",
    "    plt.grid(True)\n",
    "    plt.tight_layout()\n",
    "    plt.show()"
   ]
  },
  {
   "cell_type": "code",
   "execution_count": 27,
   "id": "f5e9a959",
   "metadata": {},
   "outputs": [
    {
     "name": "stdout",
     "output_type": "stream",
     "text": [
      "Skipping invalid line: ca 0:[9.0,19.0]:14.0 | event_type:study duration:0.5 due_in_hrs:5 daily_free_time:\n",
      "\n",
      "Error: could not convert string to float: 'study'\n",
      "Skipping invalid line: ca 1:[9.0,19.0]:15.0 | event_type:study duration:0.75 hours_until_due:24 daily_free_time:6.0\n",
      "\n",
      "Error: could not convert string to float: 'study'\n",
      "Skipping invalid line: ca 0:[9.0,19.0]:16.3 | event_type=study duration:0.25 hours_until_due:72.0 daily_free_time:8.0\n",
      "\n",
      "Error: could not convert string to float: 'ca 0'\n",
      "Skipping invalid line: ca 1:[9.0,20.0]:13.0 |event_type study task_duration:1.5 hours_until_due:6 daily_free_time:4.5\n",
      "\n",
      "Error: could not convert string to float: 'ca 1'\n",
      "Skipping invalid line: ca 0:[9.0,20.0]:10.5 |event_type study task_duration:1.0 hours_until_due:4 daily_free_time:4.5\n",
      "\n",
      "Error: could not convert string to float: 'ca 0'\n",
      "Skipping invalid line: ca 1:[9.0,20.0]:15.0 |event_type study task_duration:0.75 hours_until_due:24 daily_free_time:4.5\n",
      "\n",
      "Error: could not convert string to float: 'ca 1'\n",
      "Skipping invalid line: ca 0:[9.0,20.0]:17.5 |event_type study task_duration:0.25 hours_until_due:48 daily_free_time:4.5\n",
      "\n",
      "Error: could not convert string to float: 'ca 0'\n",
      "Skipping invalid line: ca 0:[9.0,20.0]:19.5 |event_type study task_duration:1.5 hours_until_due:48 daily_free_time:4.5\n",
      "\n",
      "Error: could not convert string to float: 'ca 0'\n",
      "Skipping invalid line: ca 1:[9.0,20.0]:16.0 |event_type study task_duration:1.0 hours_until_due:48 daily_free_time:4.5\n",
      "\n",
      "Error: could not convert string to float: 'ca 1'\n",
      "Skipping invalid line: ca 1:[9.0,20.0]:18.0 |event_type study task_duration:2.0 hours_until_due:48 daily_free_time:4.5\n",
      "\n",
      "Error: could not convert string to float: 'ca 1'\n",
      "Skipping invalid line: ca 1:[9.0,20.0]:14.0 |event_type sleep task_duration:1.0 hours_until_due:999 daily_free_time:4.5\n",
      "\n",
      "Error: could not convert string to float: 'ca 1'\n",
      "Skipping invalid line: ca 0:[9.0,20.0]:16.0 |event_type relax task_duration:0.5 hours_until_due:999 daily_free_time:5.5\n",
      "\n",
      "Error: could not convert string to float: 'ca 0'\n",
      "Skipping invalid line: ca 0:[9.0,20.0]:1.0 |event_type sleep task_duration:6.0 hours_until_due:999 daily_free_time:7.0\n",
      "\n",
      "Error: could not convert string to float: 'ca 0'\n",
      "Skipping invalid line: ca 0:[9.0,20.0]:10.0 |event_type sleep task_duration:8.0 hours_until_due:999 daily_free_time:3.0\n",
      "Error: could not convert string to float: 'ca 0'\n"
     ]
    },
    {
     "data": {
      "image/png": "[encoded data removed]",
      "text/plain": [
       "<Figure size 1000x400 with 1 Axes>"
      ]
     },
     "metadata": {},
     "output_type": "display_data"
    }
   ],
   "source": [
    "if __name__ == \"__main__\":\n",
    "    train_file = \"anya_train.vw\"\n",
    "    examples = load_examples(train_file)\n",
    "\n",
    "    num_actions = 32\n",
    "    bandwidth = 1\n",
    "    min_value = 9\n",
    "    max_value = 20\n",
    "\n",
    "    vw = pyvw.Workspace(\n",
    "        f\"--cats {num_actions} --bandwidth {bandwidth} \"\n",
    "        f\"--min_value {min_value} --max_value {max_value} \"\n",
    "        \"--json --quiet\"\n",
    "    )\n",
    "\n",
    "    ctr, hits = run_scheduler_simulation_from_file(vw, examples)\n",
    "    vw.finish()\n",
    "\n",
    "    plot_reward_rate(len(ctr), ctr, \"Reward rate with file-based input\")"
   ]
  }
 ],
 "metadata": {
  "kernelspec": {
   "display_name": "Python 3",
   "language": "python",
   "name": "python3"
  },
  "language_info": {
   "codemirror_mode": {
    "name": "ipython",
    "version": 3
   },
   "file_extension": ".py",
   "mimetype": "text/x-python",
   "name": "python",
   "nbconvert_exporter": "python",
   "pygments_lexer": "ipython3",
   "version": "3.13.2"
  }
 },
 "nbformat": 4,
 "nbformat_minor": 5
}
