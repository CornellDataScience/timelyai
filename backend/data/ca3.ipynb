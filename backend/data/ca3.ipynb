{
 "cells": [
  {
   "cell_type": "code",
   "execution_count": 9,
   "id": "fa43cdae",
   "metadata": {},
   "outputs": [],
   "source": [
    "import random\n",
    "import pandas as pd\n",
    "import matplotlib.pyplot as plt\n",
    "from vowpalwabbit import pyvw\n",
    "from sklearn.model_selection import train_test_split\n",
    "import subprocess"
   ]
  },
  {
   "cell_type": "code",
   "execution_count": 10,
   "id": "a88b043b",
   "metadata": {},
   "outputs": [],
   "source": [
    "def generate_data(n=1000, seed=42):\n",
    "    random.seed(seed)\n",
    "    data = []\n",
    "    for _ in range(n):\n",
    "        event_type = random.choice([\"study\", \"relax\", \"sleep\", \"hobby\", \"gym\"])\n",
    "        hours_until_due = round(random.uniform(1, 72), 2)\n",
    "        daily_free_time = round(random.uniform(1, 8), 1)\n",
    "        min_time, max_time = 9.0, 20.0\n",
    "        # Simulate best time to act: earlier if due soon, later if it's relax\n",
    "        if event_type in [\"study\", \"gym\"]:\n",
    "            ideal_time = max(min_time, min(max_time, 9 + (1 - min(hours_until_due/72, 1)) * 6))\n",
    "        elif event_type == \"relax\":\n",
    "            ideal_time = max(min_time, min(max_time, 18 - (daily_free_time/8)*3))\n",
    "        else:\n",
    "            ideal_time = random.uniform(min_time, max_time)\n",
    "        \n",
    "        cost = abs(random.gauss(ideal_time, 0.5) - ideal_time)\n",
    "        action = round(ideal_time + random.uniform(-1, 1), 2)\n",
    "        cost = abs(cost + random.gauss(0, 0.5))  # Add some noise\n",
    "\n",
    "        data.append({\n",
    "            \"cost\": cost,\n",
    "            \"min_time\": min_time,\n",
    "            \"max_time\": max_time,\n",
    "            \"action\": action,\n",
    "            \"event_type\": event_type,\n",
    "            \"hours_until_due\": hours_until_due,\n",
    "            \"daily_free_time\": daily_free_time\n",
    "        })\n",
    "    return pd.DataFrame(data)"
   ]
  },
  {
   "cell_type": "code",
   "execution_count": 11,
   "id": "041ecaf3",
   "metadata": {},
   "outputs": [],
   "source": [
    "def to_vw_line(row):\n",
    "    return f\"{row['cost']}:[{row['min_time']},{row['max_time']}]:{row['action']} \" \\\n",
    "           f\"|event_type {row['event_type']} hours_until_due:{row['hours_until_due']} daily_free_time:{row['daily_free_time']}\""
   ]
  },
  {
   "cell_type": "code",
   "execution_count": 12,
   "id": "5a02e173",
   "metadata": {},
   "outputs": [],
   "source": [
    "def save_vw_file(df, path):\n",
    "    with open(path, \"w\") as f:\n",
    "        for _, row in df.iterrows():\n",
    "            f.write(to_vw_line(row) + \"\\n\")\n"
   ]
  },
  {
   "cell_type": "code",
   "execution_count": 13,
   "id": "749a66b3",
   "metadata": {},
   "outputs": [],
   "source": [
    "def train_with_cli(train_file: str, model_out: str, min_time=9.0, max_time=20.0, passes=10):\n",
    "    cmd = [\n",
    "        \"vw\", \"--cb_continuous\", str(min_time), str(max_time),\n",
    "        \"-d\", train_file,\n",
    "        \"-f\", model_out,\n",
    "        \"--passes\", str(passes),\n",
    "        \"--cache_file\", \"train.cache\",\n",
    "        \"--quiet\"\n",
    "    ]\n",
    "    subprocess.run(cmd, check=True)"
   ]
  },
  {
   "cell_type": "code",
   "execution_count": 14,
   "id": "776659b4",
   "metadata": {},
   "outputs": [],
   "source": [
    "def predict_with_cli(test_file: str, model_path: str, pred_output: str):\n",
    "    cmd = [\n",
    "        \"vw\", \"-t\", \"-i\", model_path,\n",
    "        \"-d\", test_file,\n",
    "        \"-p\", pred_output,\n",
    "        \"--quiet\"\n",
    "    ]\n",
    "    subprocess.run(cmd, check=True)"
   ]
  },
  {
   "cell_type": "code",
   "execution_count": 15,
   "id": "092aba14",
   "metadata": {},
   "outputs": [],
   "source": [
    "def evaluate_predictions(test_file: str, pred_output: str):\n",
    "    predicted = []\n",
    "    with open(pred_output, \"r\") as f:\n",
    "        for line in f:\n",
    "            predicted.append(float(line.strip()))\n",
    "\n",
    "    true = []\n",
    "    with open(test_file, \"r\") as f:\n",
    "        for line in f:\n",
    "            true_action = float(line.split(\":\")[2].split()[0])\n",
    "            true.append(true_action)\n",
    "\n",
    "    errors = [abs(p - t) for p, t in zip(predicted, true)]\n",
    "    return sum(errors) / len(errors)"
   ]
  },
  {
   "cell_type": "code",
   "execution_count": 16,
   "id": "0de94bc5",
   "metadata": {},
   "outputs": [],
   "source": [
    "def plot_validation_costs(costs):\n",
    "    plt.plot(range(1, len(costs)+1), costs, marker='o')\n",
    "    plt.title(\"Validation Cost over Training Passes\")\n",
    "    plt.xlabel(\"Training Pass\")\n",
    "    plt.ylabel(\"Average Validation Cost\")\n",
    "    plt.grid(True)\n",
    "    plt.show()"
   ]
  },
  {
   "cell_type": "code",
   "execution_count": 17,
   "id": "2d7f6362",
   "metadata": {},
   "outputs": [
    {
     "name": "stdout",
     "output_type": "stream",
     "text": [
      "[critical] vw (options_cli.cc:451): unrecognised option '--cb_continuous'\n"
     ]
    },
    {
     "ename": "CalledProcessError",
     "evalue": "Command '['vw', '--cb_continuous', '9.0', '20.0', '-d', 'train.vw', '-f', 'model.vw', '--passes', '10', '--cache_file', 'train.cache', '--quiet']' returned non-zero exit status 1.",
     "output_type": "error",
     "traceback": [
      "\u001b[31m---------------------------------------------------------------------------\u001b[39m",
      "\u001b[31mCalledProcessError\u001b[39m                        Traceback (most recent call last)",
      "\u001b[36mCell\u001b[39m\u001b[36m \u001b[39m\u001b[32mIn[17]\u001b[39m\u001b[32m, line 6\u001b[39m\n\u001b[32m      3\u001b[39m save_vw_file(test_df, \u001b[33m\"\u001b[39m\u001b[33mtest.vw\u001b[39m\u001b[33m\"\u001b[39m)\n\u001b[32m      5\u001b[39m \u001b[38;5;66;03m# Train\u001b[39;00m\n\u001b[32m----> \u001b[39m\u001b[32m6\u001b[39m \u001b[43mtrain_with_cli\u001b[49m\u001b[43m(\u001b[49m\u001b[33;43m\"\u001b[39;49m\u001b[33;43mtrain.vw\u001b[39;49m\u001b[33;43m\"\u001b[39;49m\u001b[43m,\u001b[49m\u001b[43m \u001b[49m\u001b[33;43m\"\u001b[39;49m\u001b[33;43mmodel.vw\u001b[39;49m\u001b[33;43m\"\u001b[39;49m\u001b[43m,\u001b[49m\u001b[43m \u001b[49m\u001b[43mpasses\u001b[49m\u001b[43m=\u001b[49m\u001b[32;43m10\u001b[39;49m\u001b[43m)\u001b[49m\n\u001b[32m      8\u001b[39m \u001b[38;5;66;03m# Predict\u001b[39;00m\n\u001b[32m      9\u001b[39m predict_with_cli(\u001b[33m\"\u001b[39m\u001b[33mtest.vw\u001b[39m\u001b[33m\"\u001b[39m, \u001b[33m\"\u001b[39m\u001b[33mmodel.vw\u001b[39m\u001b[33m\"\u001b[39m, \u001b[33m\"\u001b[39m\u001b[33mpreds.txt\u001b[39m\u001b[33m\"\u001b[39m)\n",
      "\u001b[36mCell\u001b[39m\u001b[36m \u001b[39m\u001b[32mIn[13]\u001b[39m\u001b[32m, line 10\u001b[39m, in \u001b[36mtrain_with_cli\u001b[39m\u001b[34m(train_file, model_out, min_time, max_time, passes)\u001b[39m\n\u001b[32m      1\u001b[39m \u001b[38;5;28;01mdef\u001b[39;00m\u001b[38;5;250m \u001b[39m\u001b[34mtrain_with_cli\u001b[39m(train_file: \u001b[38;5;28mstr\u001b[39m, model_out: \u001b[38;5;28mstr\u001b[39m, min_time=\u001b[32m9.0\u001b[39m, max_time=\u001b[32m20.0\u001b[39m, passes=\u001b[32m10\u001b[39m):\n\u001b[32m      2\u001b[39m     cmd = [\n\u001b[32m      3\u001b[39m         \u001b[33m\"\u001b[39m\u001b[33mvw\u001b[39m\u001b[33m\"\u001b[39m, \u001b[33m\"\u001b[39m\u001b[33m--cb_continuous\u001b[39m\u001b[33m\"\u001b[39m, \u001b[38;5;28mstr\u001b[39m(min_time), \u001b[38;5;28mstr\u001b[39m(max_time),\n\u001b[32m      4\u001b[39m         \u001b[33m\"\u001b[39m\u001b[33m-d\u001b[39m\u001b[33m\"\u001b[39m, train_file,\n\u001b[32m   (...)\u001b[39m\u001b[32m      8\u001b[39m         \u001b[33m\"\u001b[39m\u001b[33m--quiet\u001b[39m\u001b[33m\"\u001b[39m\n\u001b[32m      9\u001b[39m     ]\n\u001b[32m---> \u001b[39m\u001b[32m10\u001b[39m     \u001b[43msubprocess\u001b[49m\u001b[43m.\u001b[49m\u001b[43mrun\u001b[49m\u001b[43m(\u001b[49m\u001b[43mcmd\u001b[49m\u001b[43m,\u001b[49m\u001b[43m \u001b[49m\u001b[43mcheck\u001b[49m\u001b[43m=\u001b[49m\u001b[38;5;28;43;01mTrue\u001b[39;49;00m\u001b[43m)\u001b[49m\n",
      "\u001b[36mFile \u001b[39m\u001b[32m/Library/Frameworks/Python.framework/Versions/3.13/lib/python3.13/subprocess.py:579\u001b[39m, in \u001b[36mrun\u001b[39m\u001b[34m(input, capture_output, timeout, check, *popenargs, **kwargs)\u001b[39m\n\u001b[32m    577\u001b[39m     retcode = process.poll()\n\u001b[32m    578\u001b[39m     \u001b[38;5;28;01mif\u001b[39;00m check \u001b[38;5;129;01mand\u001b[39;00m retcode:\n\u001b[32m--> \u001b[39m\u001b[32m579\u001b[39m         \u001b[38;5;28;01mraise\u001b[39;00m CalledProcessError(retcode, process.args,\n\u001b[32m    580\u001b[39m                                  output=stdout, stderr=stderr)\n\u001b[32m    581\u001b[39m \u001b[38;5;28;01mreturn\u001b[39;00m CompletedProcess(process.args, retcode, stdout, stderr)\n",
      "\u001b[31mCalledProcessError\u001b[39m: Command '['vw', '--cb_continuous', '9.0', '20.0', '-d', 'train.vw', '-f', 'model.vw', '--passes', '10', '--cache_file', 'train.cache', '--quiet']' returned non-zero exit status 1."
     ]
    }
   ],
   "source": [
    "# Save train/test files\n",
    "save_vw_file(train_df, \"train.vw\")\n",
    "save_vw_file(test_df, \"test.vw\")\n",
    "\n",
    "# Train\n",
    "train_with_cli(\"train.vw\", \"model.vw\", passes=10)\n",
    "\n",
    "# Predict\n",
    "predict_with_cli(\"test.vw\", \"model.vw\", \"preds.txt\")\n",
    "\n",
    "# Evaluate\n",
    "avg_error = evaluate_predictions(\"test.vw\", \"preds.txt\")\n",
    "print(f\"Final Avg Error: {avg_error:.4f}\")"
   ]
  }
 ],
 "metadata": {
  "kernelspec": {
   "display_name": "Python 3",
   "language": "python",
   "name": "python3"
  },
  "language_info": {
   "codemirror_mode": {
    "name": "ipython",
    "version": 3
   },
   "file_extension": ".py",
   "mimetype": "text/x-python",
   "name": "python",
   "nbconvert_exporter": "python",
   "pygments_lexer": "ipython3",
   "version": "3.13.2"
  }
 },
 "nbformat": 4,
 "nbformat_minor": 5
}
